{
 "cells": [
  {
   "cell_type": "code",
   "execution_count": 1,
   "id": "938b5635-d3f7-460d-b262-e31868076768",
   "metadata": {},
   "outputs": [],
   "source": [
    "import numpy as np\n",
    "import pandas as pd\n",
    "import matplotlib.pyplot as plt"
   ]
  },
  {
   "cell_type": "code",
   "execution_count": 2,
   "id": "b3a12d4a-d2a6-4ca3-ac5d-bc0851584b06",
   "metadata": {},
   "outputs": [
    {
     "data": {
      "text/html": [
       "<div>\n",
       "<style scoped>\n",
       "    .dataframe tbody tr th:only-of-type {\n",
       "        vertical-align: middle;\n",
       "    }\n",
       "\n",
       "    .dataframe tbody tr th {\n",
       "        vertical-align: top;\n",
       "    }\n",
       "\n",
       "    .dataframe thead th {\n",
       "        text-align: right;\n",
       "    }\n",
       "</style>\n",
       "<table border=\"1\" class=\"dataframe\">\n",
       "  <thead>\n",
       "    <tr style=\"text-align: right;\">\n",
       "      <th></th>\n",
       "      <th>happy</th>\n",
       "      <th>sad</th>\n",
       "      <th>danceability</th>\n",
       "      <th>liveliness</th>\n",
       "    </tr>\n",
       "  </thead>\n",
       "  <tbody>\n",
       "    <tr>\n",
       "      <th>0</th>\n",
       "      <td>0.8</td>\n",
       "      <td>0.1</td>\n",
       "      <td>0.9</td>\n",
       "      <td>0.8</td>\n",
       "    </tr>\n",
       "    <tr>\n",
       "      <th>1</th>\n",
       "      <td>0.7</td>\n",
       "      <td>0.3</td>\n",
       "      <td>0.5</td>\n",
       "      <td>0.3</td>\n",
       "    </tr>\n",
       "    <tr>\n",
       "      <th>2</th>\n",
       "      <td>0.1</td>\n",
       "      <td>0.6</td>\n",
       "      <td>0.3</td>\n",
       "      <td>0.2</td>\n",
       "    </tr>\n",
       "    <tr>\n",
       "      <th>3</th>\n",
       "      <td>0.2</td>\n",
       "      <td>0.9</td>\n",
       "      <td>0.2</td>\n",
       "      <td>0.5</td>\n",
       "    </tr>\n",
       "  </tbody>\n",
       "</table>\n",
       "</div>"
      ],
      "text/plain": [
       "   happy  sad  danceability  liveliness\n",
       "0    0.8  0.1           0.9         0.8\n",
       "1    0.7  0.3           0.5         0.3\n",
       "2    0.1  0.6           0.3         0.2\n",
       "3    0.2  0.9           0.2         0.5"
      ]
     },
     "execution_count": 2,
     "metadata": {},
     "output_type": "execute_result"
    }
   ],
   "source": [
    "songs_data = pd.DataFrame({\n",
    "    'happy': [0.8, 0.7, 0.1, 0.2],\n",
    "    'sad': [0.1, 0.3, 0.6, 0.9],\n",
    "    'danceability': [0.9, 0.5, 0.3, 0.2],\n",
    "    'liveliness': [0.8, 0.3, 0.2, 0.5],\n",
    "})\n",
    "\n",
    "songs_data"
   ]
  },
  {
   "cell_type": "code",
   "execution_count": 3,
   "id": "952fa348-7dd5-40da-b74e-c180784338b8",
   "metadata": {},
   "outputs": [
    {
     "data": {
      "text/html": [
       "<div>\n",
       "<style scoped>\n",
       "    .dataframe tbody tr th:only-of-type {\n",
       "        vertical-align: middle;\n",
       "    }\n",
       "\n",
       "    .dataframe tbody tr th {\n",
       "        vertical-align: top;\n",
       "    }\n",
       "\n",
       "    .dataframe thead th {\n",
       "        text-align: right;\n",
       "    }\n",
       "</style>\n",
       "<table border=\"1\" class=\"dataframe\">\n",
       "  <thead>\n",
       "    <tr style=\"text-align: right;\">\n",
       "      <th></th>\n",
       "      <th>happy</th>\n",
       "      <th>sad</th>\n",
       "    </tr>\n",
       "  </thead>\n",
       "  <tbody>\n",
       "    <tr>\n",
       "      <th>0</th>\n",
       "      <td>0.8</td>\n",
       "      <td>0.1</td>\n",
       "    </tr>\n",
       "    <tr>\n",
       "      <th>1</th>\n",
       "      <td>0.7</td>\n",
       "      <td>0.3</td>\n",
       "    </tr>\n",
       "    <tr>\n",
       "      <th>2</th>\n",
       "      <td>0.1</td>\n",
       "      <td>0.6</td>\n",
       "    </tr>\n",
       "    <tr>\n",
       "      <th>3</th>\n",
       "      <td>0.2</td>\n",
       "      <td>0.9</td>\n",
       "    </tr>\n",
       "  </tbody>\n",
       "</table>\n",
       "</div>"
      ],
      "text/plain": [
       "   happy  sad\n",
       "0    0.8  0.1\n",
       "1    0.7  0.3\n",
       "2    0.1  0.6\n",
       "3    0.2  0.9"
      ]
     },
     "execution_count": 3,
     "metadata": {},
     "output_type": "execute_result"
    }
   ],
   "source": [
    "input_tags = songs_data[['happy', 'sad']]\n",
    "input_tags"
   ]
  },
  {
   "cell_type": "code",
   "execution_count": 4,
   "id": "99f1d027-1cda-4a62-b5dd-565ad6be102a",
   "metadata": {},
   "outputs": [
    {
     "data": {
      "text/html": [
       "<div>\n",
       "<style scoped>\n",
       "    .dataframe tbody tr th:only-of-type {\n",
       "        vertical-align: middle;\n",
       "    }\n",
       "\n",
       "    .dataframe tbody tr th {\n",
       "        vertical-align: top;\n",
       "    }\n",
       "\n",
       "    .dataframe thead th {\n",
       "        text-align: right;\n",
       "    }\n",
       "</style>\n",
       "<table border=\"1\" class=\"dataframe\">\n",
       "  <thead>\n",
       "    <tr style=\"text-align: right;\">\n",
       "      <th></th>\n",
       "      <th>danceability</th>\n",
       "      <th>liveliness</th>\n",
       "    </tr>\n",
       "  </thead>\n",
       "  <tbody>\n",
       "    <tr>\n",
       "      <th>0</th>\n",
       "      <td>0.9</td>\n",
       "      <td>0.8</td>\n",
       "    </tr>\n",
       "    <tr>\n",
       "      <th>1</th>\n",
       "      <td>0.5</td>\n",
       "      <td>0.3</td>\n",
       "    </tr>\n",
       "    <tr>\n",
       "      <th>2</th>\n",
       "      <td>0.3</td>\n",
       "      <td>0.2</td>\n",
       "    </tr>\n",
       "    <tr>\n",
       "      <th>3</th>\n",
       "      <td>0.2</td>\n",
       "      <td>0.5</td>\n",
       "    </tr>\n",
       "  </tbody>\n",
       "</table>\n",
       "</div>"
      ],
      "text/plain": [
       "   danceability  liveliness\n",
       "0           0.9         0.8\n",
       "1           0.5         0.3\n",
       "2           0.3         0.2\n",
       "3           0.2         0.5"
      ]
     },
     "execution_count": 4,
     "metadata": {},
     "output_type": "execute_result"
    }
   ],
   "source": [
    "output_tags = songs_data[['danceability', 'liveliness']]\n",
    "output_tags"
   ]
  },
  {
   "cell_type": "code",
   "execution_count": 5,
   "id": "c25db5fa-a563-4be2-9579-bf1c4f5bee67",
   "metadata": {},
   "outputs": [
    {
     "name": "stdout",
     "output_type": "stream",
     "text": [
      "[[0.8 0.1]\n",
      " [0.7 0.3]\n",
      " [0.1 0.6]\n",
      " [0.2 0.9]]\n",
      "[[0.9 0.8]\n",
      " [0.5 0.3]\n",
      " [0.3 0.2]\n",
      " [0.2 0.5]]\n"
     ]
    }
   ],
   "source": [
    "n = len(input_tags)\n",
    "m = len(input_tags.columns)\n",
    "p = len(output_tags.columns)\n",
    "\n",
    "x = input_tags.to_numpy()\n",
    "y = output_tags.to_numpy()\n",
    "\n",
    "print(x)\n",
    "print(y)"
   ]
  },
  {
   "cell_type": "code",
   "execution_count": 6,
   "id": "717d3c15-1124-4b18-8e63-123b75a9d7d9",
   "metadata": {},
   "outputs": [],
   "source": [
    "init_range = 0.1\n",
    "w = np.random.uniform(low=-init_range, high=init_range, size=(m, p))\n",
    "b = np.random.uniform(low=-init_range, high=init_range, size=(n, p))\n",
    "eta = 0.05"
   ]
  },
  {
   "cell_type": "code",
   "execution_count": 7,
   "id": "51a31583-9225-41df-a892-ecbad1577e43",
   "metadata": {},
   "outputs": [
    {
     "name": "stdout",
     "output_type": "stream",
     "text": [
      "[[0.49717262 0.33724464]\n",
      " [0.21730393 0.25671163]]\n",
      "[[ 0.48053102  0.50453235]\n",
      " [ 0.08678855 -0.01308378]\n",
      " [ 0.11989968  0.01224871]\n",
      " [-0.09500772  0.20151027]]\n",
      "[[-4.91593318e-07 -7.83433224e-07]\n",
      " [ 5.66008312e-07  9.70051494e-07]\n",
      " [-7.11281459e-07  1.53336566e-07]\n",
      " [ 3.40282983e-07 -3.38457038e-07]]\n"
     ]
    }
   ],
   "source": [
    "for i in range(1000):\n",
    "    y_hat = np.matmul(x, w) + b\n",
    "    deltas = y_hat - y\n",
    "    loss = np.sum(deltas ** 2) / (2 * n)\n",
    "    deltas_scaled = deltas / n\n",
    "\n",
    "    w = w - eta * np.matmul(x.T, deltas_scaled)\n",
    "    b = b - eta * deltas_scaled\n",
    "\n",
    "print(w)\n",
    "print(b)\n",
    "print(deltas)"
   ]
  },
  {
   "cell_type": "code",
   "execution_count": 8,
   "id": "a7031cdf-ac0b-47fa-a8b8-4d1cdf5e193e",
   "metadata": {},
   "outputs": [
    {
     "data": {
      "image/png": "[encoded data removed]",
      "text/plain": [
       "<Figure size 432x288 with 1 Axes>"
      ]
     },
     "metadata": {
      "needs_background": "light"
     },
     "output_type": "display_data"
    }
   ],
   "source": [
    "plt.scatter(y_hat, y)\n",
    "plt.xlabel('outputs')\n",
    "plt.ylabel('targets')\n",
    "plt.show()"
   ]
  },
  {
   "cell_type": "code",
   "execution_count": 9,
   "id": "fa848969-54de-4355-9290-5caf1d65bae0",
   "metadata": {},
   "outputs": [
    {
     "data": {
      "text/html": [
       "<div>\n",
       "<style scoped>\n",
       "    .dataframe tbody tr th:only-of-type {\n",
       "        vertical-align: middle;\n",
       "    }\n",
       "\n",
       "    .dataframe tbody tr th {\n",
       "        vertical-align: top;\n",
       "    }\n",
       "\n",
       "    .dataframe thead th {\n",
       "        text-align: right;\n",
       "    }\n",
       "</style>\n",
       "<table border=\"1\" class=\"dataframe\">\n",
       "  <thead>\n",
       "    <tr style=\"text-align: right;\">\n",
       "      <th></th>\n",
       "      <th>happy</th>\n",
       "      <th>sad</th>\n",
       "      <th>danceability</th>\n",
       "      <th>liveliness</th>\n",
       "      <th>danceability (predicted)</th>\n",
       "      <th>liveliness (predicted)</th>\n",
       "    </tr>\n",
       "  </thead>\n",
       "  <tbody>\n",
       "    <tr>\n",
       "      <th>0</th>\n",
       "      <td>0.8</td>\n",
       "      <td>0.1</td>\n",
       "      <td>0.9</td>\n",
       "      <td>0.8</td>\n",
       "      <td>0.900000</td>\n",
       "      <td>0.799999</td>\n",
       "    </tr>\n",
       "    <tr>\n",
       "      <th>1</th>\n",
       "      <td>0.7</td>\n",
       "      <td>0.3</td>\n",
       "      <td>0.5</td>\n",
       "      <td>0.3</td>\n",
       "      <td>0.500001</td>\n",
       "      <td>0.300001</td>\n",
       "    </tr>\n",
       "    <tr>\n",
       "      <th>2</th>\n",
       "      <td>0.1</td>\n",
       "      <td>0.6</td>\n",
       "      <td>0.3</td>\n",
       "      <td>0.2</td>\n",
       "      <td>0.299999</td>\n",
       "      <td>0.200000</td>\n",
       "    </tr>\n",
       "    <tr>\n",
       "      <th>3</th>\n",
       "      <td>0.2</td>\n",
       "      <td>0.9</td>\n",
       "      <td>0.2</td>\n",
       "      <td>0.5</td>\n",
       "      <td>0.200000</td>\n",
       "      <td>0.500000</td>\n",
       "    </tr>\n",
       "  </tbody>\n",
       "</table>\n",
       "</div>"
      ],
      "text/plain": [
       "   happy  sad  danceability  liveliness  danceability (predicted)  \\\n",
       "0    0.8  0.1           0.9         0.8                  0.900000   \n",
       "1    0.7  0.3           0.5         0.3                  0.500001   \n",
       "2    0.1  0.6           0.3         0.2                  0.299999   \n",
       "3    0.2  0.9           0.2         0.5                  0.200000   \n",
       "\n",
       "   liveliness (predicted)  \n",
       "0                0.799999  \n",
       "1                0.300001  \n",
       "2                0.200000  \n",
       "3                0.500000  "
      ]
     },
     "execution_count": 9,
     "metadata": {},
     "output_type": "execute_result"
    }
   ],
   "source": [
    "songs_data['danceability (predicted)'] = y_hat[:, 0]\n",
    "songs_data['liveliness (predicted)'] = y_hat[:, 1]\n",
    "\n",
    "songs_data"
   ]
  }
 ],
 "metadata": {
  "kernelspec": {
   "display_name": "Python 3 (ipykernel)",
   "language": "python",
   "name": "python3"
  },
  "language_info": {
   "codemirror_mode": {
    "name": "ipython",
    "version": 3
   },
   "file_extension": ".py",
   "mimetype": "text/x-python",
   "name": "python",
   "nbconvert_exporter": "python",
   "pygments_lexer": "ipython3",
   "version": "3.10.1"
  }
 },
 "nbformat": 4,
 "nbformat_minor": 5
}
